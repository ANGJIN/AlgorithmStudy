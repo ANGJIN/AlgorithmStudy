{
 "cells": [
  {
   "cell_type": "code",
   "execution_count": 92,
   "metadata": {},
   "outputs": [
    {
     "name": "stdout",
     "output_type": "stream",
     "text": [
      "3 4 4\n"
     ]
    }
   ],
   "source": [
    "inp=input()\n",
    "inp=[int(i) for i in inp.split()]"
   ]
  },
  {
   "cell_type": "code",
   "execution_count": 93,
   "metadata": {},
   "outputs": [],
   "source": [
    "N=inp[0]\n",
    "M=inp[1]\n",
    "K=inp[2]"
   ]
  },
  {
   "cell_type": "code",
   "execution_count": 98,
   "metadata": {},
   "outputs": [
    {
     "name": "stdout",
     "output_type": "stream",
     "text": [
      "1 1\n",
      "1 1\n",
      "1 2\n"
     ]
    }
   ],
   "source": [
    "a=[(0,0)]\n",
    "for i in range(1,N+1) :\n",
    "    inp=input()\n",
    "    x,y=(int(i) for i in inp.split())\n",
    "    a.append((x,y))"
   ]
  },
  {
   "cell_type": "code",
   "execution_count": 99,
   "metadata": {},
   "outputs": [],
   "source": [
    "D=[]\n",
    "for i in range(N+1):\n",
    "    t1=[]\n",
    "    for j in range(M+1):\n",
    "        t2=[]\n",
    "        for k in range(K+1):\n",
    "            t2.append(0)\n",
    "        t1.append(t2)\n",
    "    D.append(t1)"
   ]
  },
  {
   "cell_type": "code",
   "execution_count": 100,
   "metadata": {},
   "outputs": [],
   "source": [
    "for i in range (1,N+1): # i : 1~N\n",
    "    for j in range (M+1) : # j : 0~M\n",
    "        for k in range (K+1) : # k : 0~K\n",
    "            x,y=a[i]\n",
    "            if x<=j and y<=k:\n",
    "                D[i][j][k]=max(D[i-1][j][k],D[i-1][j-x][k-y]+1)\n",
    "            else:\n",
    "                D[i][j][k]=D[i-1][j][k]"
   ]
  },
  {
   "cell_type": "code",
   "execution_count": 101,
   "metadata": {},
   "outputs": [
    {
     "name": "stdout",
     "output_type": "stream",
     "text": [
      "3\n"
     ]
    }
   ],
   "source": [
    "print(D[N][M][K])"
   ]
  }
 ],
 "metadata": {
  "kernelspec": {
   "display_name": "Python 3",
   "language": "python",
   "name": "python3"
  },
  "language_info": {
   "codemirror_mode": {
    "name": "ipython",
    "version": 3
   },
   "file_extension": ".py",
   "mimetype": "text/x-python",
   "name": "python",
   "nbconvert_exporter": "python",
   "pygments_lexer": "ipython3",
   "version": "3.7.1"
  }
 },
 "nbformat": 4,
 "nbformat_minor": 2
}
